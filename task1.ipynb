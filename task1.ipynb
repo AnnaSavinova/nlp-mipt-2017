{
 "cells": [
  {
   "cell_type": "markdown",
   "metadata": {},
   "source": [
    "### Загружаем данные"
   ]
  },
  {
   "cell_type": "code",
   "execution_count": 1,
   "metadata": {
    "collapsed": false
   },
   "outputs": [],
   "source": [
    "with open(\"SMSSpamCollection\") as f:\n",
    "    lines = f.readlines()\n",
    "    texts = []\n",
    "    answers = []\n",
    "    \n",
    "    for line in lines:\n",
    "        parts = line.split(\"\\t\", 1)\n",
    "        \n",
    "        if parts[0] == \"ham\":\n",
    "            answers.append(0)\n",
    "        else:\n",
    "            answers.append(1)\n",
    "        \n",
    "        texts.append(parts[1])"
   ]
  },
  {
   "cell_type": "code",
   "execution_count": 2,
   "metadata": {
    "collapsed": false
   },
   "outputs": [
    {
     "name": "stderr",
     "output_type": "stream",
     "text": [
      "/home/anny/anaconda3/lib/python3.6/site-packages/sklearn/cross_validation.py:44: DeprecationWarning: This module was deprecated in version 0.18 in favor of the model_selection module into which all the refactored classes and functions are moved. Also note that the interface of the new CV iterators are different from that of this module. This module will be removed in 0.20.\n",
      "  \"This module will be removed in 0.20.\", DeprecationWarning)\n"
     ]
    }
   ],
   "source": [
    "from sklearn import feature_extraction\n",
    "from sklearn.cross_validation import cross_val_score\n",
    "\n",
    "test_messages = [\"FreeMsg: Txt: CALL to No: 86888 & claim your reward of 3 hours talk time to use fromyour phone now! Subscribe6GB\",\n",
    "\"FreeMsg: Txt: claim your reward of 3 hours talk time\",\n",
    "\"Have you visited the last lecture on physics?\",\n",
    "\"Have you visited the last lecture on physics? Just buy this book and you will have all materials! Only 99$\",\n",
    "\"Only 99$\"]\n",
    "\n",
    "def DoClassification(vectorizer, classifier, y=answers):\n",
    "    fitted_vectorizer = vectorizer.fit(texts)\n",
    "    \n",
    "    X = fitted_vectorizer.transform(texts)\n",
    "    \n",
    "    result = cross_val_score(classifier, X, y, cv=10, scoring=\"f1\")\n",
    "    print(\"Cross_val_score result: \", \"{:.2f}\".format(sum(result)/len(result)))\n",
    "    \n",
    "    classifier.fit(X, y)\n",
    "    print(\"Predicted vals: \", classifier.predict(fitted_vectorizer.transform(test_messages)))\n",
    "    "
   ]
  },
  {
   "cell_type": "markdown",
   "metadata": {},
   "source": [
    "### Логистическая регрессия"
   ]
  },
  {
   "cell_type": "code",
   "execution_count": 3,
   "metadata": {
    "collapsed": false
   },
   "outputs": [
    {
     "name": "stdout",
     "output_type": "stream",
     "text": [
      "Cross_val_score result:  0.93\n",
      "Predicted vals:  [1 1 0 0 0]\n"
     ]
    }
   ],
   "source": [
    "from sklearn.linear_model import LogisticRegression\n",
    "\n",
    "DoClassification(feature_extraction.text.CountVectorizer(), LogisticRegression())"
   ]
  },
  {
   "cell_type": "code",
   "execution_count": 4,
   "metadata": {
    "collapsed": false
   },
   "outputs": [
    {
     "name": "stdout",
     "output_type": "stream",
     "text": [
      "Cross_val_score result:  0.82\n",
      "Predicted vals:  [1 0 0 0 0]\n",
      "Cross_val_score result:  0.73\n",
      "Predicted vals:  [0 0 0 0 0]\n",
      "Cross_val_score result:  0.93\n",
      "Predicted vals:  [1 0 0 0 0]\n"
     ]
    }
   ],
   "source": [
    "ngram_ranges = [(2,2), (3,3), (1,3)]\n",
    "\n",
    "for ngram_range in ngram_ranges:\n",
    "        DoClassification(feature_extraction.text.CountVectorizer(ngram_range=ngram_range), LogisticRegression())"
   ]
  },
  {
   "cell_type": "markdown",
   "metadata": {},
   "source": [
    "### Наивный Байес"
   ]
  },
  {
   "cell_type": "code",
   "execution_count": 5,
   "metadata": {
    "collapsed": false
   },
   "outputs": [
    {
     "name": "stdout",
     "output_type": "stream",
     "text": [
      "Cross_val_score result:  0.93\n",
      "Predicted vals:  [1 1 0 0 1]\n"
     ]
    }
   ],
   "source": [
    "from sklearn.naive_bayes import MultinomialNB\n",
    "\n",
    "DoClassification(feature_extraction.text.CountVectorizer(), MultinomialNB())"
   ]
  },
  {
   "cell_type": "code",
   "execution_count": 6,
   "metadata": {
    "collapsed": false
   },
   "outputs": [
    {
     "name": "stdout",
     "output_type": "stream",
     "text": [
      "Cross_val_score result:  0.65\n",
      "Predicted vals:  [1 1 0 0 0]\n",
      "Cross_val_score result:  0.38\n",
      "Predicted vals:  [1 1 0 0 0]\n",
      "Cross_val_score result:  0.89\n",
      "Predicted vals:  [1 1 0 0 0]\n"
     ]
    }
   ],
   "source": [
    "for ngram_range in ngram_ranges:\n",
    "        DoClassification(feature_extraction.text.CountVectorizer(ngram_range=ngram_range), MultinomialNB())"
   ]
  },
  {
   "cell_type": "markdown",
   "metadata": {},
   "source": [
    "### TfIdf"
   ]
  },
  {
   "cell_type": "code",
   "execution_count": 7,
   "metadata": {
    "collapsed": false
   },
   "outputs": [
    {
     "name": "stdout",
     "output_type": "stream",
     "text": [
      "Cross_val_score result:  0.85\n",
      "Predicted vals:  [1 1 0 0 0]\n"
     ]
    }
   ],
   "source": [
    "DoClassification(feature_extraction.text.TfidfVectorizer(), LogisticRegression())"
   ]
  },
  {
   "cell_type": "markdown",
   "metadata": {},
   "source": [
    "### Выводы"
   ]
  },
  {
   "cell_type": "markdown",
   "metadata": {},
   "source": [
    "Наши эксперименты подтверждают теорию о том, что логрегрессия лучше решает задачу классификации спам/не спам, чем наивный Байесовский классификатор.\n",
    "\n",
    "\n",
    "Использование метрики tf-idf ухудшило качество классификации на данном датасете. Одной из причин подобного поведения может являться тот факт, что спам легко отличим по наиболее часто встречающимся словам, которые учитываются слабее в метрике tf-idf."
   ]
  },
  {
   "cell_type": "code",
   "execution_count": null,
   "metadata": {
    "collapsed": true
   },
   "outputs": [],
   "source": []
  }
 ],
 "metadata": {
  "kernelspec": {
   "display_name": "Python 3",
   "language": "python",
   "name": "python3"
  },
  "language_info": {
   "codemirror_mode": {
    "name": "ipython",
    "version": 3
   },
   "file_extension": ".py",
   "mimetype": "text/x-python",
   "name": "python",
   "nbconvert_exporter": "python",
   "pygments_lexer": "ipython3",
   "version": "3.6.0"
  }
 },
 "nbformat": 4,
 "nbformat_minor": 2
}
